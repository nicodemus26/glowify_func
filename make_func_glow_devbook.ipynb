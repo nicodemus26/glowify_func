{
 "cells": [
  {
   "cell_type": "markdown",
   "metadata": {},
   "source": [
    "## Generate SVG's for to plot a function on a grid"
   ]
  },
  {
   "cell_type": "markdown",
   "metadata": {},
   "source": [
    "Input is a function $f: \\mathbb{R}^2 \\rightarrow \\mathbb{R}$, material width $w$, bounding box $[a_x,b_x]\\times [a_y,b_y] $, number of plancks in each direction $N_x, N_y$, and depth of join cut $d_c$ (maybe make that adaptive in the future). We want to produce SVG paths for planks which will interlock and effectively graph $f$. "
   ]
  },
  {
   "cell_type": "markdown",
   "metadata": {},
   "source": [
    "## IMPORTANT: \n",
    "Unfortunately this only works with v0.6 at the moment. The translation of iterators from 0.6 to 0.7+ is not exactly straight forward, at least for something funny like `ClosedCurve` which has cyclic indices"
   ]
  },
  {
   "cell_type": "code",
   "execution_count": 1,
   "metadata": {},
   "outputs": [
    {
     "data": {
      "text/plain": [
       "glowify_grid_func (generic function with 2 methods)"
      ]
     },
     "execution_count": 1,
     "metadata": {},
     "output_type": "execute_result"
    }
   ],
   "source": [
    "\n",
    "include(\"glowify_func.jl\")"
   ]
  },
  {
   "cell_type": "markdown",
   "metadata": {},
   "source": [
    "There are two coordinate (unit) systems to keep track of - one concrete (for the material), one abstract (for the mathematical). I'll first produce vectors representing the graph along cross sections, and then scale according to the material. "
   ]
  },
  {
   "cell_type": "code",
   "execution_count": 10,
   "metadata": {},
   "outputs": [],
   "source": [
    "const LineSamplePoints = StepRangeLen{Float64,Base.TwicePrecision{Float64},Base.TwicePrecision{Float64}}\n",
    "struct DiscreteDomain\n",
    "    Nx::Int\n",
    "    Ny::Int\n",
    "    minmin::Point\n",
    "    maxmax::Point\n",
    "end"
   ]
  },
  {
   "cell_type": "code",
   "execution_count": 11,
   "metadata": {},
   "outputs": [
    {
     "data": {
      "text/plain": [
       "func_vals_along_grid (generic function with 2 methods)"
      ]
     },
     "execution_count": 11,
     "metadata": {},
     "output_type": "execute_result"
    }
   ],
   "source": [
    "function func_vals_along_grid(f::Function, dd::DiscreteDomain = DiscreteDomain(10,10,Point(0,0),Point(1,1)))::Tuple{LineSamplePoints,LineSamplePoints,Array{Float64,2}}\n",
    "    mxy = dd.minmin\n",
    "    Mxy = dd.maxmax\n",
    "    x_grid_vals = linspace(mxy.x,Mxy.x,dd.Nx)\n",
    "    y_grid_vals = linspace(mxy.y,Mxy.y,dd.Ny)\n",
    "    vals_at_intersections = Array{Float64}(dd.Ny,dd.Nx)\n",
    "    for (i,x) in enumerate(x_grid_vals)\n",
    "        for (j,y) in enumerate(y_grid_vals)\n",
    "            vals_at_intersections[j,i] = f(x_grid_vals[i],y_grid_vals[j])\n",
    "        end\n",
    "    end\n",
    "    (y_grid_vals,x_grid_vals,vals_at_intersections)\n",
    "end"
   ]
  },
  {
   "cell_type": "markdown",
   "metadata": {},
   "source": [
    "## Some assumptions:\n",
    "1) The distance between neighboring sample points is a reasonable proxy for the distance length of the cross-section between the two points. That is, the grid points are assumed to be fine enough to basically capture the variations of the function, i.e. the derivative of the function is approximately constant between neighboring grid points\n",
    "\n",
    "2) The function minimum and maximum are basically achieved at the grid points"
   ]
  },
  {
   "cell_type": "code",
   "execution_count": 3,
   "metadata": {},
   "outputs": [
    {
     "data": {
      "text/plain": [
       "f (generic function with 1 method)"
      ]
     },
     "execution_count": 3,
     "metadata": {},
     "output_type": "execute_result"
    }
   ],
   "source": [
    "f(x,y) = y.^2 - x.^2"
   ]
  },
  {
   "cell_type": "code",
   "execution_count": 4,
   "metadata": {},
   "outputs": [
    {
     "data": {
      "text/plain": [
       "7"
      ]
     },
     "execution_count": 4,
     "metadata": {},
     "output_type": "execute_result"
    }
   ],
   "source": [
    "f(3,4)"
   ]
  },
  {
   "cell_type": "markdown",
   "metadata": {},
   "source": [
    "## Translating to physical coordinates"
   ]
  },
  {
   "cell_type": "markdown",
   "metadata": {},
   "source": [
    "The above deals with sampling the function in those coordinates. We need to translate to physical coordinates, which I won't determine, but should be constant."
   ]
  },
  {
   "cell_type": "code",
   "execution_count": null,
   "metadata": {},
   "outputs": [],
   "source": []
  },
  {
   "cell_type": "code",
   "execution_count": 18,
   "metadata": {},
   "outputs": [
    {
     "data": {
      "text/plain": [
       "glowify_grid_func (generic function with 2 methods)"
      ]
     },
     "execution_count": 18,
     "metadata": {},
     "output_type": "execute_result"
    }
   ],
   "source": [
    "using PointsNCurves\n",
    "#const LineSamplePoints = StepRangeLen{Float64,Base.TwicePrecision{Float64},Base.TwicePrecision{Float64}}\n",
    "struct DiscreteDomain\n",
    "    Nx::Int\n",
    "    Ny::Int\n",
    "    minmin::Point\n",
    "    maxmax::Point\n",
    "end\n",
    "function glowify_curves_on_grid(vert_curves::Curves, horz_curves::Curves, mat_width::Float64,x_length::Float64, y_length::Float64, z_length::Float64, z_min::Float64)\n",
    "  # vert_curves will get cut from above\n",
    "  # horz_curves will get cut from below\n",
    "\n",
    "  # Assuming even spacing of grid lines.\n",
    "  # I have in mind that the minimum and maximum x coordinates are uniform over vert_curves and horz_curves\n",
    "  # Major assumption: the \"x\" coordinates of the points in vert_curves and horz_curves are monotonically non-decreasing!\n",
    "  depth_factor = .5\n",
    "  cut_width = mat_width\n",
    "\n",
    "\n",
    "  Nvert = length(vert_curves)\n",
    "  Nhorz = length(horz_curves)\n",
    "\n",
    "  # we'll scale the values according to z_length and the input min, max of the function\n",
    "  all_func_max = max(mapreduce(c -> maxy(c),max,vert_curves),mapreduce(c -> maxy(c), max, horz_curves))\n",
    "  all_func_min = min(mapreduce(c -> miny(c),min,vert_curves),mapreduce(c -> miny(c), min, horz_curves))\n",
    "\n",
    "  # scale the \"y\" coordinates of the curves by z_length, and shift by z_min:\n",
    "  scale_z(c::Curve) = map!(p -> Point(p.x, z_min + z_length*((p.y - all_func_min)/(all_func_max - all_func_min))),c)\n",
    "\n",
    "  for c in vert_curves\n",
    "    scale_z(c)\n",
    "  end\n",
    "  for c in horz_curves\n",
    "    scale_z(c)\n",
    "  end\n",
    "\n",
    "  # Now the depth axis is scaled as desired.\n",
    "\n",
    "  # (re)compute the intersection points given the curves.\n",
    "  horz_input_min = mapreduce(c -> minx(c), min, horz_curves)\n",
    "  horz_input_max = mapreduce(c -> maxx(c), max, horz_curves)\n",
    "  vert_input_min = mapreduce(c -> minx(c), min, vert_curves)\n",
    "  vert_input_max = mapreduce(c -> maxx(c), max, vert_curves)\n",
    "\n",
    "  horz_disc_vals = linspace(horz_input_min, horz_input_max, Nvert + 2)[2:end-1]\n",
    "  vert_disc_vals = linspace(vert_input_min, vert_input_max, Nhorz + 2)[2:end-1]\n",
    "\n",
    "  # Now compute the (minimum) of the depths of the horz_curves and vert_curves where they should intersect:\n",
    "  horz_vals_along_grid = Array{Float64}(Nvert,Nhorz)\n",
    "  vert_vals_along_grid = Array{Float64}(Nvert,Nhorz)\n",
    "  cut_depth_from_bottom = Array{Float64}(Nvert,Nhorz)\n",
    "\n",
    "  box_curve(c::Curve, xmin, xmax)::ClosedCurve = ClosedCurve(vcat([Point(xmin,0)],c, [Point(xmax,0)]))\n",
    "  horz_planks = map(c -> box_curve(c,horz_input_min,horz_input_max),horz_curves)\n",
    "  vert_planks = map(c -> box_curve(c,vert_input_min,vert_input_max),vert_curves)\n",
    "\n",
    "  horz_cuts = ClosedCurves()\n",
    "  vert_cuts = ClosedCurves()\n",
    "  \n",
    "    # from above\n",
    "  vert_cutout(x_coord,cut_depth) = ClosedCurve(\n",
    "    [Point(x_coord-cut_width/2,z_length+z_min+5),\n",
    "    Point(x_coord+cut_width/2,z_length+z_min+5),\n",
    "    Point(x_coord+cut_width/2,cut_depth),\n",
    "    Point(x_coord-cut_width/2,cut_depth)            \n",
    "    ])\n",
    "    # from below\n",
    "  horz_cutout(x_coord,cut_depth) = ClosedCurve(\n",
    "    [\n",
    "    Point(x_coord-cut_width/2,-5),\n",
    "    Point(x_coord+cut_width/2,-5),                      \n",
    "    Point(x_coord+cut_width/2,cut_depth),            \n",
    "    Point(x_coord-cut_width/2,cut_depth)                        \n",
    "    ])\n",
    "\n",
    "  for (i,horz) in enumerate(horz_curves) # Nhorz of these. They cross the vertical curves\n",
    "    #cur_horz_idx = 1\n",
    "    for (j,vert) in enumerate(vert_curves) # Nvert of these. They cross the horizontal curves\n",
    "    #  cur_vert_idx = 1\n",
    "      horz_coord = horz_disc_vals[j]\n",
    "      vert_coord = vert_disc_vals[i]\n",
    "      # Do horz or verts have values at those coordinates?\n",
    "      # increment the horizontal and vertial indices until the \"x\" coordinates \n",
    "#       while (horz[cur_horz_idx].x < horz_coord)\n",
    "#         cur_horz_idx += 1\n",
    "#       end\n",
    "#       while (vert[cur_vert_idx].x < vert_coord)\n",
    "#         cur_vert_idx += 1\n",
    "#       end\n",
    "#       min_horz_func_val = horz[cur_horz_idx].y\n",
    "#       min_vert_func_val = vert[cur_vert_idx].y            \n",
    "    horzfunccut = vert_cut(horz_coord,z_min)\n",
    "    ~,~,horz_func_vals_at_intersection = masked_occluded_intersections(horz_planks[i],horzfunccut)\n",
    "    min_horz_func_val = minimum(map(p -> p.y,horz_func_vals_at_intersection))\n",
    "    \n",
    "    vertfunccut = vert_cut(vert_coord,z_min)\n",
    "    ~,~,vert_func_vals_at_intersection = masked_occluded_intersections(vert_planks[j],vertfunccut)\n",
    "    min_vert_func_val = minimum(map(p -> p.y,vert_func_vals_at_intersection))\n",
    "    cut_depth = depth_factor * min(min_horz_func_val, min_vert_func_val)\n",
    "    if (cut_depth_from_bottom[j,i] < z_min/2)\n",
    "       error(\"somehow scaling the function values\")\n",
    "    end\n",
    "      horz_cut = horz_cutout(horz_coord, cut_depth_from_bottom[j,i])\n",
    "      push!(horz_cuts,horz_cut)\n",
    "      (~, occluded_horz_plank, horz_intersections) = masked_occluded_intersections(horz_planks[i],horz_cut)\n",
    "      if (length(occluded_horz_plank) <= 2)\n",
    "        horz_planks[i] = ClosedCurve(occluded_horz_plank[1])\n",
    "      else\n",
    "        println(occluded_horz_plank[1])\n",
    "        println(\"\\n\\n\\n\")\n",
    "        println(occluded_horz_plank[2])\n",
    "        error(\"occluded_horz_plank has length $(length(occluded_horz_plank))\")\n",
    "      end\n",
    "      vert_cut = vert_cutout(vert_coord, cut_depth_from_bottom[j,i])\n",
    "      push!(vert_cuts,vert_cut)\n",
    "      (~, occluded_vert_plank, vert_intersections) = masked_occluded_intersections(vert_planks[j],vert_cut)                            \n",
    "      if (length(occluded_vert_plank) <= 2)\n",
    "        vert_planks[j] = ClosedCurve(occluded_vert_plank[1])\n",
    "      else\n",
    "        println(occluded_vert_plank)\n",
    "        error(\"occluded_vert_plank has length $(length(occluded_vert_plank))\")\n",
    "      end\n",
    "    end # inner for\n",
    "  end # outer for\n",
    "  (horz_planks,vert_planks,horz_cuts,vert_cuts)\n",
    "end\n",
    "\n",
    "function sample_grid_func(f::Function,Nvert::Int,Nhorz::Int,fsvert::Int, fshorz::Int,vert_min::Float64,vert_max::Float64,horz_min::Float64,horz_max::Float64)\n",
    " (Nvert < 3) && error(\"Need more vertical lines. the sample domain \n",
    "    should have 2 more than number of planks in a given direction\")\n",
    "  (Nhorz < 3) && error(\"Need more horizontal lines. the sample domain \n",
    "    should have 2 more than number of planks in a given direction\")\n",
    "\n",
    "\n",
    "  num_horz_sample_points = fshorz\n",
    "  num_vert_sample_points = fsvert\n",
    "\n",
    "  horz_x_coords = linspace(horz_min,horz_max,num_horz_sample_points)\n",
    "  vert_x_coords = linspace(vert_min,vert_max,num_vert_sample_points)\n",
    "\n",
    "  # \"x\" values that are constant for the vertical curves\n",
    "  vert_cross_domain_vals = linspace(horz_min,horz_max,Nvert)[2:end-1]\n",
    "\n",
    "  # \"y\" values that are constant for the horizontal curves\n",
    "  horz_cross_domain_vals = linspace(vert_min,vert_max,Nhorz)[2:end-1]\n",
    "\n",
    "  vert_curves = Curves(Nvert-2)\n",
    "  horz_curves = Curves(Nhorz-2)\n",
    "\n",
    "  for (crv_idx, cross_val) in enumerate(vert_cross_domain_vals)\n",
    "    crv = []\n",
    "    for xval in vert_x_coords\n",
    "      push!(crv,Point(xval, f(cross_val,xval)))\n",
    "    end\n",
    "    vert_curves[crv_idx] = crv\n",
    "  end\n",
    "\n",
    "  for (crv_idx,cross_val) in enumerate(horz_cross_domain_vals)\n",
    "    crv = []\n",
    "    for xval in horz_x_coords\n",
    "      push!(crv,Point(xval, f(xval,cross_val)))\n",
    "    end\n",
    "    horz_curves[crv_idx] = crv\n",
    "  end\n",
    "\n",
    "  horz_curves, vert_curves\n",
    "end\n",
    "\n",
    "function glowify_grid_func(f::Function,sample_domain::DiscreteDomain,mat_width::Float64,horz_length::Float64,vert_length::Float64,z_length::Float64,z_min::Float64,fs::Int=100)\n",
    "  (sample_domain.Nx < 3) && error(\"Need more vertical lines. the sample domain \n",
    "    should have 2 more than number of planks in a given direction\")\n",
    "  (sample_domain.Ny < 3) && error(\"Need more horizontal lines. the sample domain \n",
    "    should have 2 more than number of planks in a given direction\")\n",
    "\n",
    "  num_horz_sample_points = round.(Int,ceil(fs*horz_length))\n",
    "  num_vert_sample_points = round.(Int,ceil(fs*vert_length))\n",
    "\n",
    "  vert_min = sample_domain.minmin.y\n",
    "  vert_max = sample_domain.maxmax.y\n",
    "  horz_min = sample_domain.minmin.x\n",
    "  horz_max = sample_domain.maxmax.x\n",
    "  \n",
    "  unscaled_horz_curves, unscaled_vert_curves = sample_grid_func(f,sample_domain.Nx, sample_domain.Ny, num_vert_sample_points, num_horz_sample_points, vert_min, vert_max,horz_min, horz_max)\n",
    "\n",
    "  horz_x_coords = map(p -> p.x, unscaled_horz_curves[1]) # Assuming the domain is the same accross horizontal curves\n",
    "  vert_x_coords = map(p -> p.x, unscaled_vert_curves[1]) # Assuming the domain is the same accross horizontal curves\n",
    "  \n",
    "  # The following values will be used to compute the sample points and cut points\n",
    "  rescale(vec,scl) = scl * ((vec - minimum(vec))/(maximum(vec) - minimum(vec)))\n",
    "  scaled_horz_x_vals = rescale(horz_x_coords, horz_length)\n",
    "  scaled_vert_x_vals = rescale(vert_x_coords, vert_length)\n",
    "\n",
    "  vert_curves = Curves(length(unscaled_vert_curves))\n",
    "  horz_curves = Curves(length(unscaled_horz_curves))\n",
    "\n",
    "  for (i,c) in enumerate(unscaled_horz_curves)\n",
    "    horz_func_vals = map(p -> p.y, c)\n",
    "    crv = Vector{Point}()\n",
    "    for (px,py) in zip(scaled_horz_x_vals, horz_func_vals)\n",
    "      push!(crv, Point(px,py))\n",
    "    end\n",
    "    horz_curves[i] = crv\n",
    "  end\n",
    "\n",
    "  for (i,c) in enumerate(unscaled_vert_curves)\n",
    "    vert_func_vals = map(p -> p.y, c)\n",
    "    crv = Vector{Point}()\n",
    "    for (px,py) in zip(scaled_vert_x_vals, vert_func_vals)\n",
    "      push!(crv, Point(px,py))\n",
    "    end\n",
    "    vert_curves[i] = crv\n",
    "  end\n",
    "  \n",
    "  glowify_curves_on_grid(vert_curves, horz_curves, mat_width, horz_length, vert_length, z_length, z_min)\n",
    "end\n",
    "\n",
    "#       5) translate the curves so that they don't overlap\n",
    "#       6) export to svg\n",
    "\n",
    "#function disjointify(planks)\n",
    "\n",
    "#function export_to_svg(disjoint_planks,filename)\n",
    "\n"
   ]
  },
  {
   "cell_type": "code",
   "execution_count": 38,
   "metadata": {},
   "outputs": [
    {
     "data": {
      "text/plain": [
       "-0.5"
      ]
     },
     "execution_count": 38,
     "metadata": {},
     "output_type": "execute_result"
    }
   ],
   "source": [
    "c = gensquare()\n",
    "mapreduce(p -> p.x, min, c)"
   ]
  },
  {
   "cell_type": "code",
   "execution_count": 34,
   "metadata": {},
   "outputs": [
    {
     "data": {
      "text/plain": [
       "5-element Array{Array{PointsNCurves.Point,1},1}:\n",
       " #undef\n",
       " #undef\n",
       " #undef\n",
       " #undef\n",
       " #undef"
      ]
     },
     "execution_count": 34,
     "metadata": {},
     "output_type": "execute_result"
    }
   ],
   "source": [
    "c = Curves(5)"
   ]
  },
  {
   "cell_type": "code",
   "execution_count": 24,
   "metadata": {},
   "outputs": [
    {
     "data": {
      "text/plain": [
       "5-element Array{PointsNCurves.Point,1}:\n",
       " PointsNCurves.Point(-0.5, -0.5)\n",
       " PointsNCurves.Point(-0.5, 0.5) \n",
       " PointsNCurves.Point(0.5, 0.5)  \n",
       " PointsNCurves.Point(0.5, -0.5) \n",
       " PointsNCurves.Point(-0.5, -0.5)"
      ]
     },
     "execution_count": 24,
     "metadata": {},
     "output_type": "execute_result"
    }
   ],
   "source": [
    "c[2] = Curve(gensquare())"
   ]
  },
  {
   "cell_type": "code",
   "execution_count": 30,
   "metadata": {},
   "outputs": [
    {
     "ename": "LoadError",
     "evalue": "\u001b[91mUndefRefError: access to undefined reference\u001b[39m",
     "output_type": "error",
     "traceback": [
      "\u001b[91mUndefRefError: access to undefined reference\u001b[39m",
      "",
      "Stacktrace:",
      " [1] \u001b[1mgetindex\u001b[22m\u001b[22m\u001b[1m(\u001b[22m\u001b[22m::Array{Array{PointsNCurves.Point,1},1}, ::Int64\u001b[1m)\u001b[22m\u001b[22m at \u001b[1m./array.jl:549\u001b[22m\u001b[22m",
      " [2] \u001b[1minclude_string\u001b[22m\u001b[22m\u001b[1m(\u001b[22m\u001b[22m::String, ::String\u001b[1m)\u001b[22m\u001b[22m at \u001b[1m./loading.jl:522\u001b[22m\u001b[22m",
      " [3] \u001b[1mexecute_request\u001b[22m\u001b[22m\u001b[1m(\u001b[22m\u001b[22m::ZMQ.Socket, ::IJulia.Msg\u001b[1m)\u001b[22m\u001b[22m at \u001b[1m/Users/prc/.julia/v0.6/IJulia/src/execute_request.jl:193\u001b[22m\u001b[22m",
      " [4] \u001b[1m(::Compat.#inner#6{Array{Any,1},IJulia.#execute_request,Tuple{ZMQ.Socket,IJulia.Msg}})\u001b[22m\u001b[22m\u001b[1m(\u001b[22m\u001b[22m\u001b[1m)\u001b[22m\u001b[22m at \u001b[1m/Users/prc/.julia/v0.6/Compat/src/Compat.jl:189\u001b[22m\u001b[22m",
      " [5] \u001b[1meventloop\u001b[22m\u001b[22m\u001b[1m(\u001b[22m\u001b[22m::ZMQ.Socket\u001b[1m)\u001b[22m\u001b[22m at \u001b[1m/Users/prc/.julia/v0.6/IJulia/src/eventloop.jl:8\u001b[22m\u001b[22m",
      " [6] \u001b[1m(::IJulia.##13#16)\u001b[22m\u001b[22m\u001b[1m(\u001b[22m\u001b[22m\u001b[1m)\u001b[22m\u001b[22m at \u001b[1m./task.jl:335\u001b[22m\u001b[22m"
     ]
    }
   ],
   "source": []
  },
  {
   "cell_type": "code",
   "execution_count": 22,
   "metadata": {},
   "outputs": [
    {
     "data": {
      "text/plain": [
       "true"
      ]
     },
     "execution_count": 22,
     "metadata": {},
     "output_type": "execute_result"
    }
   ],
   "source": [
    "typeof(gensquare()) == ClosedCurve && typeof(Curve(gensquare())) == Curve\n"
   ]
  },
  {
   "cell_type": "code",
   "execution_count": null,
   "metadata": {},
   "outputs": [],
   "source": [
    "x_length = 7\n",
    "y_length = 7\n",
    "z_min = 2 # The function values will be shifted so that they have this minimum_value\n",
    "z_length = 4 # The approximate difference between the max and min of the function. \n",
    "\n",
    "dc = .1 # approximate distance between neighboring sample points\n",
    "\n"
   ]
  }
 ],
 "metadata": {
  "kernelspec": {
   "display_name": "Julia 0.6.4",
   "language": "julia",
   "name": "julia-0.6"
  },
  "language_info": {
   "file_extension": ".jl",
   "mimetype": "application/julia",
   "name": "julia",
   "version": "0.6.4"
  }
 },
 "nbformat": 4,
 "nbformat_minor": 2
}
