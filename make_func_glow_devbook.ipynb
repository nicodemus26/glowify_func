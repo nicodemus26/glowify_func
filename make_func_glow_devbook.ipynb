{
 "cells": [
  {
   "cell_type": "markdown",
   "metadata": {},
   "source": [
    "## Generate SVG's for to plot a function on a grid"
   ]
  },
  {
   "cell_type": "markdown",
   "metadata": {},
   "source": [
    "## IMPORTANT: \n",
    "Unfortunately this only works with v0.6 at the moment. The translation of iterators from 0.6 to 0.7+ is not exactly straight forward, at least for something funny like `ClosedCurve` which has cyclic indices."
   ]
  },
  {
   "cell_type": "code",
   "execution_count": 4,
   "metadata": {},
   "outputs": [
    {
     "data": {
      "text/plain": [
       "glowify_grid_func (generic function with 2 methods)"
      ]
     },
     "execution_count": 4,
     "metadata": {},
     "output_type": "execute_result"
    }
   ],
   "source": [
    "include(\"glowify_func.jl\")"
   ]
  },
  {
   "cell_type": "markdown",
   "metadata": {},
   "source": [
    "We'll use two coordinate systems - one concrete (for the material), one abstract (for the mathematical). First we make a function and specify the grid on which to sample it."
   ]
  },
  {
   "cell_type": "code",
   "execution_count": 3,
   "metadata": {},
   "outputs": [
    {
     "data": {
      "text/plain": [
       "DiscreteDomain(8, 8, PointsNCurves.Point(-2.0, -2.0), PointsNCurves.Point(2.0, 2.0))"
      ]
     },
     "execution_count": 3,
     "metadata": {},
     "output_type": "execute_result"
    }
   ],
   "source": [
    "# 2D function to sample\n",
    "grid_func(x,y) = y.^2 - x.^2\n",
    "# grid along which to sample the function:\n",
    "#DiscreteDomain(Nx::Int64, Ny::Int64, minmin::PointsNCurves.Point, maxmax::PointsNCurves.Point) \n",
    "#Nx = (number of planks along the x direction) + 2\n",
    "#Ny = (number of planks along the y direction) + 2\n",
    "#minmin = Point(min_x, min_y), \"lower left\" corner of sampling domain\n",
    "#maxmax = Point(max_x, max_y), \"upper right\" corner of sampling domain\n",
    "disc_dom = DiscreteDomain(8,8,Point(-2,-2),Point(2,2))\n",
    "\n",
    "# This will make 6 planks!"
   ]
  },
  {
   "cell_type": "code",
   "execution_count": 5,
   "metadata": {},
   "outputs": [
    {
     "name": "stderr",
     "output_type": "stream",
     "text": [
      "\u001b[1m\u001b[33mWARNING: \u001b[39m\u001b[22m\u001b[33mmap!(f::F, A::AbstractArray) where F is deprecated, use map!(f, A, A) instead.\u001b[39m\n",
      "Stacktrace:\n",
      " [1] \u001b[1mdepwarn\u001b[22m\u001b[22m\u001b[1m(\u001b[22m\u001b[22m::String, ::Symbol\u001b[1m)\u001b[22m\u001b[22m at \u001b[1m./deprecated.jl:70\u001b[22m\u001b[22m\n",
      " [2] \u001b[1mmap!\u001b[22m\u001b[22m\u001b[1m(\u001b[22m\u001b[22m::##65#82{Float64,Float64,Float64,Float64}, ::Array{PointsNCurves.Point,1}\u001b[1m)\u001b[22m\u001b[22m at \u001b[1m./deprecated.jl:57\u001b[22m\u001b[22m\n",
      " [3] \u001b[1mglowify_curves_on_grid\u001b[22m\u001b[22m\u001b[1m(\u001b[22m\u001b[22m::Array{Array{PointsNCurves.Point,1},1}, ::Array{Array{PointsNCurves.Point,1},1}, ::Float64, ::Float64, ::Float64, ::Float64, ::Float64\u001b[1m)\u001b[22m\u001b[22m at \u001b[1m/Users/prc/Projects/ART/glowify_func/glowify_func.jl:38\u001b[22m\u001b[22m\n",
      " [4] \u001b[1mglowify_grid_func\u001b[22m\u001b[22m\u001b[1m(\u001b[22m\u001b[22m::Function, ::DiscreteDomain, ::Float64, ::Float64, ::Float64, ::Float64, ::Float64, ::Int64\u001b[1m)\u001b[22m\u001b[22m at \u001b[1m/Users/prc/Projects/ART/glowify_func/glowify_func.jl:281\u001b[22m\u001b[22m\n",
      " [5] \u001b[1minclude_string\u001b[22m\u001b[22m\u001b[1m(\u001b[22m\u001b[22m::String, ::String\u001b[1m)\u001b[22m\u001b[22m at \u001b[1m./loading.jl:522\u001b[22m\u001b[22m\n",
      " [6] \u001b[1mexecute_request\u001b[22m\u001b[22m\u001b[1m(\u001b[22m\u001b[22m::ZMQ.Socket, ::IJulia.Msg\u001b[1m)\u001b[22m\u001b[22m at \u001b[1m/Users/prc/.julia/v0.6/IJulia/src/execute_request.jl:193\u001b[22m\u001b[22m\n",
      " [7] \u001b[1m(::Compat.#inner#6{Array{Any,1},IJulia.#execute_request,Tuple{ZMQ.Socket,IJulia.Msg}})\u001b[22m\u001b[22m\u001b[1m(\u001b[22m\u001b[22m\u001b[1m)\u001b[22m\u001b[22m at \u001b[1m/Users/prc/.julia/v0.6/Compat/src/Compat.jl:189\u001b[22m\u001b[22m\n",
      " [8] \u001b[1meventloop\u001b[22m\u001b[22m\u001b[1m(\u001b[22m\u001b[22m::ZMQ.Socket\u001b[1m)\u001b[22m\u001b[22m at \u001b[1m/Users/prc/.julia/v0.6/IJulia/src/eventloop.jl:8\u001b[22m\u001b[22m\n",
      " [9] \u001b[1m(::IJulia.##13#16)\u001b[22m\u001b[22m\u001b[1m(\u001b[22m\u001b[22m\u001b[1m)\u001b[22m\u001b[22m at \u001b[1m./task.jl:335\u001b[22m\u001b[22m\n",
      "while loading In[5], in expression starting on line 13\n",
      "\u001b[1m\u001b[33mWARNING: \u001b[39m\u001b[22m\u001b[33mmap!(f::F, A::AbstractArray) where F is deprecated, use map!(f, A, A) instead.\u001b[39m\n",
      "Stacktrace:\n",
      " [1] \u001b[1mdepwarn\u001b[22m\u001b[22m\u001b[1m(\u001b[22m\u001b[22m::String, ::Symbol\u001b[1m)\u001b[22m\u001b[22m at \u001b[1m./deprecated.jl:70\u001b[22m\u001b[22m\n",
      " [2] \u001b[1mmap!\u001b[22m\u001b[22m\u001b[1m(\u001b[22m\u001b[22m::##65#82{Float64,Float64,Float64,Float64}, ::Array{PointsNCurves.Point,1}\u001b[1m)\u001b[22m\u001b[22m at \u001b[1m./deprecated.jl:57\u001b[22m\u001b[22m\n",
      " [3] \u001b[1mglowify_curves_on_grid\u001b[22m\u001b[22m\u001b[1m(\u001b[22m\u001b[22m::Array{Array{PointsNCurves.Point,1},1}, ::Array{Array{PointsNCurves.Point,1},1}, ::Float64, ::Float64, ::Float64, ::Float64, ::Float64\u001b[1m)\u001b[22m\u001b[22m at \u001b[1m/Users/prc/Projects/ART/glowify_func/glowify_func.jl:41\u001b[22m\u001b[22m\n",
      " [4] \u001b[1mglowify_grid_func\u001b[22m\u001b[22m\u001b[1m(\u001b[22m\u001b[22m::Function, ::DiscreteDomain, ::Float64, ::Float64, ::Float64, ::Float64, ::Float64, ::Int64\u001b[1m)\u001b[22m\u001b[22m at \u001b[1m/Users/prc/Projects/ART/glowify_func/glowify_func.jl:281\u001b[22m\u001b[22m\n",
      " [5] \u001b[1minclude_string\u001b[22m\u001b[22m\u001b[1m(\u001b[22m\u001b[22m::String, ::String\u001b[1m)\u001b[22m\u001b[22m at \u001b[1m./loading.jl:522\u001b[22m\u001b[22m\n",
      " [6] \u001b[1mexecute_request\u001b[22m\u001b[22m\u001b[1m(\u001b[22m\u001b[22m::ZMQ.Socket, ::IJulia.Msg\u001b[1m)\u001b[22m\u001b[22m at \u001b[1m/Users/prc/.julia/v0.6/IJulia/src/execute_request.jl:193\u001b[22m\u001b[22m\n",
      " [7] \u001b[1m(::Compat.#inner#6{Array{Any,1},IJulia.#execute_request,Tuple{ZMQ.Socket,IJulia.Msg}})\u001b[22m\u001b[22m\u001b[1m(\u001b[22m\u001b[22m\u001b[1m)\u001b[22m\u001b[22m at \u001b[1m/Users/prc/.julia/v0.6/Compat/src/Compat.jl:189\u001b[22m\u001b[22m\n",
      " [8] \u001b[1meventloop\u001b[22m\u001b[22m\u001b[1m(\u001b[22m\u001b[22m::ZMQ.Socket\u001b[1m)\u001b[22m\u001b[22m at \u001b[1m/Users/prc/.julia/v0.6/IJulia/src/eventloop.jl:8\u001b[22m\u001b[22m\n",
      " [9] \u001b[1m(::IJulia.##13#16)\u001b[22m\u001b[22m\u001b[1m(\u001b[22m\u001b[22m\u001b[1m)\u001b[22m\u001b[22m at \u001b[1m./task.jl:335\u001b[22m\u001b[22m\n",
      "while loading In[5], in expression starting on line 13\n"
     ]
    }
   ],
   "source": [
    "# Now produce two sets of curves representing the cuts in both directions:\n",
    "# xplanks, yplanks \n",
    "#        = glowify_grid_func(\n",
    "#               grid_func::Function,\n",
    "#               disc_dom::DiscreteDomain,\n",
    "#               mat_width::Float64, <- In the material units\n",
    "#               x_length::Float64,\n",
    "#               y_length::Float64,\n",
    "#               z_length::Float64, <- This is the amount to scale the function values by\n",
    "#               z_min::Float64, <- The minimum depth of a cut. So total height is z_min + z_length\n",
    "#               fs::Int=100 <- sample frequency per unit of length to sample the function\n",
    "#               )\n",
    "xplanks, yplanks = glowify_grid_func(grid_func, disc_dom, .164, 4., 4., 3., 1., 10);"
   ]
  },
  {
   "cell_type": "code",
   "execution_count": 6,
   "metadata": {},
   "outputs": [
    {
     "name": "stdout",
     "output_type": "stream",
     "text": [
      "Drawing 12 curves!\n",
      "drawing the svg to /Users/prc/Projects/ART/glowify_func/hyperbolic.svg\n"
     ]
    },
    {
     "name": "stderr",
     "output_type": "stream",
     "text": [
      "\u001b[1m\u001b[33mWARNING: \u001b[39m\u001b[22m\u001b[33mround(::Type{T}, x::AbstractArray) where T is deprecated, use round.(T, x) instead.\u001b[39m\n",
      "Stacktrace:\n",
      " [1] \u001b[1mdepwarn\u001b[22m\u001b[22m\u001b[1m(\u001b[22m\u001b[22m::String, ::Symbol\u001b[1m)\u001b[22m\u001b[22m at \u001b[1m./deprecated.jl:70\u001b[22m\u001b[22m\n",
      " [2] \u001b[1mround\u001b[22m\u001b[22m\u001b[1m(\u001b[22m\u001b[22m::Type{Int64}, ::Array{Int64,1}\u001b[1m)\u001b[22m\u001b[22m at \u001b[1m./deprecated.jl:57\u001b[22m\u001b[22m\n",
      " [3] \u001b[1mrgbconv\u001b[22m\u001b[22m\u001b[1m(\u001b[22m\u001b[22m::Array{Int64,1}\u001b[1m)\u001b[22m\u001b[22m at \u001b[1m/Users/prc/.julia/v0.6/PointsNCurves/src/MakeSVGDrawingCmds.jl:13\u001b[22m\u001b[22m\n",
      " [4] \u001b[1mMakeSVGCurve\u001b[22m\u001b[22m\u001b[1m(\u001b[22m\u001b[22m::Array{PointsNCurves.Point,1}, ::String, ::Int64, ::Array{Int64,1}\u001b[1m)\u001b[22m\u001b[22m at \u001b[1m/Users/prc/.julia/v0.6/PointsNCurves/src/MakeSVGDrawingCmds.jl:97\u001b[22m\u001b[22m\n",
      " [5] \u001b[1mDrawSVGCurvesNoScaling\u001b[22m\u001b[22m\u001b[1m(\u001b[22m\u001b[22m::String, ::Array{Array{PointsNCurves.Point,1},1}, ::String\u001b[1m)\u001b[22m\u001b[22m at \u001b[1m/Users/prc/.julia/v0.6/PointsNCurves/src/MakeSVGDrawingCmds.jl:152\u001b[22m\u001b[22m\n",
      " [6] \u001b[1mdraw_glowified_fun\u001b[22m\u001b[22m\u001b[1m(\u001b[22m\u001b[22m::String, ::Array{PointsNCurves.ClosedCurve,1}, ::Array{PointsNCurves.ClosedCurve,1}, ::String\u001b[1m)\u001b[22m\u001b[22m at \u001b[1m/Users/prc/Projects/ART/glowify_func/glowify_func.jl:11\u001b[22m\u001b[22m\n",
      " [7] \u001b[1minclude_string\u001b[22m\u001b[22m\u001b[1m(\u001b[22m\u001b[22m::String, ::String\u001b[1m)\u001b[22m\u001b[22m at \u001b[1m./loading.jl:522\u001b[22m\u001b[22m\n",
      " [8] \u001b[1mexecute_request\u001b[22m\u001b[22m\u001b[1m(\u001b[22m\u001b[22m::ZMQ.Socket, ::IJulia.Msg\u001b[1m)\u001b[22m\u001b[22m at \u001b[1m/Users/prc/.julia/v0.6/IJulia/src/execute_request.jl:193\u001b[22m\u001b[22m\n",
      " [9] \u001b[1m(::Compat.#inner#6{Array{Any,1},IJulia.#execute_request,Tuple{ZMQ.Socket,IJulia.Msg}})\u001b[22m\u001b[22m\u001b[1m(\u001b[22m\u001b[22m\u001b[1m)\u001b[22m\u001b[22m at \u001b[1m/Users/prc/.julia/v0.6/Compat/src/Compat.jl:189\u001b[22m\u001b[22m\n",
      " [10] \u001b[1meventloop\u001b[22m\u001b[22m\u001b[1m(\u001b[22m\u001b[22m::ZMQ.Socket\u001b[1m)\u001b[22m\u001b[22m at \u001b[1m/Users/prc/.julia/v0.6/IJulia/src/eventloop.jl:8\u001b[22m\u001b[22m\n",
      " [11] \u001b[1m(::IJulia.##13#16)\u001b[22m\u001b[22m\u001b[1m(\u001b[22m\u001b[22m\u001b[1m)\u001b[22m\u001b[22m at \u001b[1m./task.jl:335\u001b[22m\u001b[22m\n",
      "while loading In[6], in expression starting on line 4\n"
     ]
    }
   ],
   "source": [
    "# Finally plot draw the curves into an svg. They will all be drawn on top of each other. \n",
    "# TODO: draw them not on top of each other. \n",
    "# draw_glowified_fun(filename, x_planks, y_planks, unit)\n",
    "draw_glowified_fun(\"hyperbolic.svg\", xplanks, yplanks, \"cm\");"
   ]
  }
 ],
 "metadata": {
  "kernelspec": {
   "display_name": "Julia 0.6.4",
   "language": "julia",
   "name": "julia-0.6"
  },
  "language_info": {
   "file_extension": ".jl",
   "mimetype": "application/julia",
   "name": "julia",
   "version": "0.6.4"
  }
 },
 "nbformat": 4,
 "nbformat_minor": 2
}
