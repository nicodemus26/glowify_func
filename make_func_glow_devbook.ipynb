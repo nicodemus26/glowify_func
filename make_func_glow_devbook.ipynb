{
 "cells": [
  {
   "cell_type": "markdown",
   "metadata": {},
   "source": [
    "## Generate SVG's for to plot a function on a grid"
   ]
  },
  {
   "cell_type": "markdown",
   "metadata": {},
   "source": [
    "## IMPORTANT: \n",
    "Unfortunately this only works with v0.6 at the moment. The translation of iterators from 0.6 to 0.7+ is not exactly straight forward, at least for something funny like `ClosedCurve` which has cyclic indices."
   ]
  },
  {
   "cell_type": "code",
   "execution_count": 1,
   "metadata": {},
   "outputs": [
    {
     "data": {
      "text/plain": [
       "glowify_grid_func (generic function with 2 methods)"
      ]
     },
     "execution_count": 1,
     "metadata": {},
     "output_type": "execute_result"
    }
   ],
   "source": [
    "include(\"glowify_func.jl\")"
   ]
  },
  {
   "cell_type": "markdown",
   "metadata": {},
   "source": [
    "We'll use two coordinate systems - one concrete (for the material), one abstract (for the mathematical). First we make a function and specify the grid on which to sample it."
   ]
  },
  {
   "cell_type": "code",
   "execution_count": 2,
   "metadata": {},
   "outputs": [
    {
     "data": {
      "text/plain": [
       "DiscreteDomain(8, 8, PointsNCurves.Point(-2.0, -2.0), PointsNCurves.Point(2.0, 2.0))"
      ]
     },
     "execution_count": 2,
     "metadata": {},
     "output_type": "execute_result"
    }
   ],
   "source": [
    "# 2D function to sample\n",
    "grid_func(x,y) = y.^2 - x.^2\n",
    "\n",
    "\n",
    "# grid along which to sample the function:\n",
    "#DiscreteDomain(Nx::Int64, Ny::Int64, minmin::PointsNCurves.Point, maxmax::PointsNCurves.Point) \n",
    "#Nx = (number of planks along the x direction) + 2\n",
    "#Ny = (number of planks along the y direction) + 2\n",
    "#minmin = Point(min_x, min_y), \"lower left\" corner of sampling domain\n",
    "#maxmax = Point(max_x, max_y), \"upper right\" corner of sampling domain\n",
    "disc_dom = DiscreteDomain(8,8,Point(-2,-2),Point(2,2))\n",
    "\n",
    "# This will make 6 planks!"
   ]
  },
  {
   "cell_type": "code",
   "execution_count": 3,
   "metadata": {},
   "outputs": [],
   "source": [
    "# Now produce two sets of curves representing the cuts in both directions:\n",
    "# xplanks, yplanks \n",
    "#        = glowify_grid_func(\n",
    "#               grid_func::Function,\n",
    "#               disc_dom::DiscreteDomain,\n",
    "#               mat_width::Float64, <- In the material units\n",
    "#               x_length::Float64,\n",
    "#               y_length::Float64,\n",
    "#               z_length::Float64, <- This is the amount to scale the function values by\n",
    "#               z_min::Float64, <- The minimum depth of a cut. So total height is z_min + z_length\n",
    "#               fs::Int=100 <- sample frequency per unit of length to sample the function\n",
    "#               )\n",
    "xplanks, yplanks = glowify_grid_func(grid_func, disc_dom, .164, 4., 4., 3., 1., 10);"
   ]
  },
  {
   "cell_type": "code",
   "execution_count": 5,
   "metadata": {},
   "outputs": [
    {
     "name": "stdout",
     "output_type": "stream",
     "text": [
      "Drawing 12 curves!\n",
      "drawing the svg to /Users/prc/Projects/ART/glowify_func/hyperbolic.svg\n"
     ]
    }
   ],
   "source": [
    "# Finally plot draw the curves into an svg. They will all be drawn on top of each other. \n",
    "# TODO: draw them not on top of each other. \n",
    "# draw_glowified_fun(filename, x_planks, y_planks, unit)\n",
    "draw_glowified_fun(\"hyperbolic.svg\", xplanks, yplanks, \"cm\");"
   ]
  }
 ],
 "metadata": {
  "kernelspec": {
   "display_name": "Julia 0.6.4",
   "language": "julia",
   "name": "julia-0.6"
  },
  "language_info": {
   "file_extension": ".jl",
   "mimetype": "application/julia",
   "name": "julia",
   "version": "0.6.4"
  }
 },
 "nbformat": 4,
 "nbformat_minor": 2
}
